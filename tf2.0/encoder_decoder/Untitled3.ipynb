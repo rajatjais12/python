{
  "nbformat": 4,
  "nbformat_minor": 0,
  "metadata": {
    "colab": {
      "name": "Untitled3.ipynb",
      "provenance": []
    },
    "kernelspec": {
      "name": "python3",
      "display_name": "Python 3"
    }
  },
  "cells": [
    {
      "cell_type": "code",
      "metadata": {
        "id": "7O7z9SxLSfE6",
        "colab_type": "code",
        "colab": {}
      },
      "source": [
        "import numpy as np\n",
        "import matplotlib.pyplot as plt\n",
        "import tensorflow as tf\n",
        "from tensorflow import keras\n",
        "import os"
      ],
      "execution_count": 0,
      "outputs": []
    },
    {
      "cell_type": "code",
      "metadata": {
        "id": "0AphqXyDSj89",
        "colab_type": "code",
        "colab": {
          "base_uri": "https://localhost:8080/",
          "height": 34
        },
        "outputId": "67cf181e-b703-4fe4-eaa5-566a72dfdf58"
      },
      "source": [
        "!pip install annoy\n",
        "\n"
      ],
      "execution_count": 234,
      "outputs": [
        {
          "output_type": "stream",
          "text": [
            "Requirement already satisfied: annoy in /usr/local/lib/python3.6/dist-packages (1.16.3)\n"
          ],
          "name": "stdout"
        }
      ]
    },
    {
      "cell_type": "code",
      "metadata": {
        "id": "kqzpJYmTSoY4",
        "colab_type": "code",
        "colab": {}
      },
      "source": [
        "from annoy import AnnoyIndex"
      ],
      "execution_count": 0,
      "outputs": []
    },
    {
      "cell_type": "code",
      "metadata": {
        "id": "znUEgLVdStO9",
        "colab_type": "code",
        "colab": {}
      },
      "source": [
        "from tensorflow.keras.datasets import mnist\n",
        "\n",
        "(X_train, y_train),(X_test, y_test) = mnist.load_data()"
      ],
      "execution_count": 0,
      "outputs": []
    },
    {
      "cell_type": "code",
      "metadata": {
        "id": "DGSwhbb9S-4X",
        "colab_type": "code",
        "colab": {}
      },
      "source": [
        "X_train=X_train/255\n",
        "X_test = X_test/255"
      ],
      "execution_count": 0,
      "outputs": []
    },
    {
      "cell_type": "code",
      "metadata": {
        "id": "DEFWpCPDTCC_",
        "colab_type": "code",
        "colab": {
          "base_uri": "https://localhost:8080/",
          "height": 34
        },
        "outputId": "2247a3b2-6f25-4a57-ccb6-3deab069ede1"
      },
      "source": [
        "y_train.shape"
      ],
      "execution_count": 238,
      "outputs": [
        {
          "output_type": "execute_result",
          "data": {
            "text/plain": [
              "(60000,)"
            ]
          },
          "metadata": {
            "tags": []
          },
          "execution_count": 238
        }
      ]
    },
    {
      "cell_type": "code",
      "metadata": {
        "id": "WgPtF_gATCdy",
        "colab_type": "code",
        "colab": {}
      },
      "source": [
        " p=np.unique(y_train)"
      ],
      "execution_count": 0,
      "outputs": []
    },
    {
      "cell_type": "code",
      "metadata": {
        "id": "qX9U4IcFTExy",
        "colab_type": "code",
        "colab": {}
      },
      "source": [
        "category_counts = dict(zip(*np.unique(y_train, return_counts=True)))"
      ],
      "execution_count": 0,
      "outputs": []
    },
    {
      "cell_type": "code",
      "metadata": {
        "id": "Wav1QmL_THs8",
        "colab_type": "code",
        "colab": {
          "base_uri": "https://localhost:8080/",
          "height": 187
        },
        "outputId": "60b653a1-92a3-431f-dd6a-a8b39042e73a"
      },
      "source": [
        "category_counts"
      ],
      "execution_count": 241,
      "outputs": [
        {
          "output_type": "execute_result",
          "data": {
            "text/plain": [
              "{0: 5923,\n",
              " 1: 6742,\n",
              " 2: 5958,\n",
              " 3: 6131,\n",
              " 4: 5842,\n",
              " 5: 5421,\n",
              " 6: 5918,\n",
              " 7: 6265,\n",
              " 8: 5851,\n",
              " 9: 5949}"
            ]
          },
          "metadata": {
            "tags": []
          },
          "execution_count": 241
        }
      ]
    },
    {
      "cell_type": "code",
      "metadata": {
        "id": "oVc92ANUTNP_",
        "colab_type": "code",
        "colab": {
          "base_uri": "https://localhost:8080/",
          "height": 480
        },
        "outputId": "f534c49b-5280-45e7-ebe8-f2b9e4c94005"
      },
      "source": [
        "plt.figure(figsize=(12,8))\n",
        "for index in range(16):\n",
        "  rand_idx = np.random.randint(0,y_train.shape[0])\n",
        "  plt.subplot(4,4,index+1)\n",
        "  plt.xticks([])\n",
        "  plt.yticks([])\n",
        "  plt.grid('off')\n",
        "  plt.imshow(X_train[rand_idx], cmap='Greys_r')\n",
        "  plt.xlabel(p[y_train[rand_idx]])"
      ],
      "execution_count": 242,
      "outputs": [
        {
          "output_type": "display_data",
          "data": {
            "image/png": "[encoded data removed]",
            "text/plain": [
              "<Figure size 864x576 with 16 Axes>"
            ]
          },
          "metadata": {
            "tags": []
          }
        }
      ]
    },
    {
      "cell_type": "code",
      "metadata": {
        "id": "tzREqPgjTWC_",
        "colab_type": "code",
        "colab": {}
      },
      "source": [
        "def Encoder():\n",
        "    input_img = Input(shape=(28, 28, 1))  # adapt this if using `channels_first` image data format   \n",
        "    e1 = Conv2D(16, (3, 3), activation='relu', padding='same')(input_img)\n",
        "    e2 = MaxPooling2D((2, 2), padding='same')(e1)\n",
        "    e3 = Conv2D(8, (3, 3), activation='relu', padding='same')(e2)\n",
        "    e4 = MaxPooling2D((2, 2), padding='same')(e3)\n",
        "    e5 = Conv2D(8, (3, 3), activation='relu', padding='same')(e4)\n",
        "    e6 = MaxPooling2D((2, 2), padding='same')(e5)\n",
        "    return Model(input_img, e6)\n",
        "\n",
        "\n",
        "def Decoder():\n",
        "    input_img = Input(shape=(4, 4, 8))  # adapt this if using `channels_first` image data format   \n",
        "    d1 = Conv2D(8, (3, 3), activation='relu', padding='same')(input_img)\n",
        "    d2 = UpSampling2D((2, 2))(d1)\n",
        "    d3 = Conv2D(8, (3, 3), activation='relu', padding='same')(d2)\n",
        "    d4 = UpSampling2D((2, 2))(d3)\n",
        "    d5 = Conv2D(16, (3, 3), activation='relu')(d4)\n",
        "    d6 = UpSampling2D((2, 2))(d5)\n",
        "    d7 = Conv2D(1, (3, 3), activation='sigmoid', padding='same')(d6)\n",
        "    return Model(input_img, d7)\n",
        "\n",
        "\n",
        "# define input to the model:\n",
        "x = Input(shape=(28, 28, 1))\n",
        "\n",
        "# make the model:\n",
        "autoencoder = Model(x, Decoder()(Encoder()(x)))\n",
        "\n",
        "# compile the model:\n",
        "autoencoder.compile(optimizer='adadelta', loss='binary_crossentropy')"
      ],
      "execution_count": 0,
      "outputs": []
    },
    {
      "cell_type": "code",
      "metadata": {
        "id": "zua6bR5U1Pga",
        "colab_type": "code",
        "colab": {
          "base_uri": "https://localhost:8080/",
          "height": 204
        },
        "outputId": "fdbac953-f8a1-4986-afcf-fa9d6466f643"
      },
      "source": [
        "autoencoder.fit(X_train.reshape(-1, 28, 28, 1),          \n",
        "          X_train.reshape(-1, 28, 28, 1), \n",
        "          epochs=5, \n",
        "          batch_size=200)"
      ],
      "execution_count": 244,
      "outputs": [
        {
          "output_type": "stream",
          "text": [
            "Epoch 1/5\n",
            "60000/60000 [==============================] - 73s 1ms/step - loss: 0.2241\n",
            "Epoch 2/5\n",
            "60000/60000 [==============================] - 72s 1ms/step - loss: 0.1706\n",
            "Epoch 3/5\n",
            "60000/60000 [==============================] - 72s 1ms/step - loss: 0.1552\n",
            "Epoch 4/5\n",
            "60000/60000 [==============================] - 72s 1ms/step - loss: 0.1463\n",
            "Epoch 5/5\n",
            "60000/60000 [==============================] - 72s 1ms/step - loss: 0.1400\n"
          ],
          "name": "stdout"
        },
        {
          "output_type": "execute_result",
          "data": {
            "text/plain": [
              "<keras.callbacks.callbacks.History at 0x7f4b1d4c48d0>"
            ]
          },
          "metadata": {
            "tags": []
          },
          "execution_count": 244
        }
      ]
    },
    {
      "cell_type": "code",
      "metadata": {
        "id": "cKfMVk7mLVH6",
        "colab_type": "code",
        "colab": {}
      },
      "source": [
        "encoder=Encoder()"
      ],
      "execution_count": 0,
      "outputs": []
    },
    {
      "cell_type": "code",
      "metadata": {
        "id": "dTZRmCeELQpJ",
        "colab_type": "code",
        "colab": {
          "base_uri": "https://localhost:8080/",
          "height": 391
        },
        "outputId": "2a3cc309-ce51-4b7e-a590-8bafc34abe35"
      },
      "source": [
        "encoder.summary()"
      ],
      "execution_count": 246,
      "outputs": [
        {
          "output_type": "stream",
          "text": [
            "Model: \"model_34\"\n",
            "_________________________________________________________________\n",
            "Layer (type)                 Output Shape              Param #   \n",
            "=================================================================\n",
            "input_50 (InputLayer)        (None, 28, 28, 1)         0         \n",
            "_________________________________________________________________\n",
            "conv2d_83 (Conv2D)           (None, 28, 28, 16)        160       \n",
            "_________________________________________________________________\n",
            "max_pooling2d_35 (MaxPooling (None, 14, 14, 16)        0         \n",
            "_________________________________________________________________\n",
            "conv2d_84 (Conv2D)           (None, 14, 14, 8)         1160      \n",
            "_________________________________________________________________\n",
            "max_pooling2d_36 (MaxPooling (None, 7, 7, 8)           0         \n",
            "_________________________________________________________________\n",
            "conv2d_85 (Conv2D)           (None, 7, 7, 8)           584       \n",
            "_________________________________________________________________\n",
            "max_pooling2d_37 (MaxPooling (None, 4, 4, 8)           0         \n",
            "=================================================================\n",
            "Total params: 1,904\n",
            "Trainable params: 1,904\n",
            "Non-trainable params: 0\n",
            "_________________________________________________________________\n"
          ],
          "name": "stdout"
        }
      ]
    },
    {
      "cell_type": "code",
      "metadata": {
        "id": "Sc2QdjCZF5oX",
        "colab_type": "code",
        "colab": {}
      },
      "source": [
        "decoder=Decoder()"
      ],
      "execution_count": 0,
      "outputs": []
    },
    {
      "cell_type": "code",
      "metadata": {
        "id": "IJjRlkxsTh96",
        "colab_type": "code",
        "colab": {
          "base_uri": "https://localhost:8080/",
          "height": 425
        },
        "outputId": "22b23f35-01a5-44ee-bfb2-a3128ec1901a"
      },
      "source": [
        "decoder.summary()"
      ],
      "execution_count": 248,
      "outputs": [
        {
          "output_type": "stream",
          "text": [
            "Model: \"model_35\"\n",
            "_________________________________________________________________\n",
            "Layer (type)                 Output Shape              Param #   \n",
            "=================================================================\n",
            "input_51 (InputLayer)        (None, 4, 4, 8)           0         \n",
            "_________________________________________________________________\n",
            "conv2d_86 (Conv2D)           (None, 4, 4, 8)           584       \n",
            "_________________________________________________________________\n",
            "up_sampling2d_37 (UpSampling (None, 8, 8, 8)           0         \n",
            "_________________________________________________________________\n",
            "conv2d_87 (Conv2D)           (None, 8, 8, 8)           584       \n",
            "_________________________________________________________________\n",
            "up_sampling2d_38 (UpSampling (None, 16, 16, 8)         0         \n",
            "_________________________________________________________________\n",
            "conv2d_88 (Conv2D)           (None, 14, 14, 16)        1168      \n",
            "_________________________________________________________________\n",
            "up_sampling2d_39 (UpSampling (None, 28, 28, 16)        0         \n",
            "_________________________________________________________________\n",
            "conv2d_89 (Conv2D)           (None, 28, 28, 1)         145       \n",
            "=================================================================\n",
            "Total params: 2,481\n",
            "Trainable params: 2,481\n",
            "Non-trainable params: 0\n",
            "_________________________________________________________________\n"
          ],
          "name": "stdout"
        }
      ]
    },
    {
      "cell_type": "code",
      "metadata": {
        "id": "pjMow9XRFX7D",
        "colab_type": "code",
        "colab": {}
      },
      "source": [
        "encoded_imgs = encoder.predict(X_test.reshape(-1, 28, 28, 1))"
      ],
      "execution_count": 0,
      "outputs": []
    },
    {
      "cell_type": "code",
      "metadata": {
        "id": "5hI8103NB6ln",
        "colab_type": "code",
        "colab": {}
      },
      "source": [
        ""
      ],
      "execution_count": 0,
      "outputs": []
    },
    {
      "cell_type": "code",
      "metadata": {
        "id": "oPw9Cs3Q5LMV",
        "colab_type": "code",
        "colab": {}
      },
      "source": [
        "a_ed_img=autoencoder.predict(X_test.reshape(-1, 28, 28, 1))"
      ],
      "execution_count": 0,
      "outputs": []
    },
    {
      "cell_type": "code",
      "metadata": {
        "id": "fjPhxmAgZGUL",
        "colab_type": "code",
        "colab": {}
      },
      "source": [
        "decoder.compile(optimizer='adadelta', loss='binary_crossentropy')"
      ],
      "execution_count": 0,
      "outputs": []
    },
    {
      "cell_type": "code",
      "metadata": {
        "id": "vvjbGXflZPl4",
        "colab_type": "code",
        "colab": {
          "base_uri": "https://localhost:8080/",
          "height": 374
        },
        "outputId": "4c476ca0-1d1b-45f0-d419-54ebbc2422a0"
      },
      "source": [
        "decoder.fit(encoded_imgs.reshape(-1, 4, 4, 8),          \n",
        "          a_ed_img.reshape(-1, 28, 28, 1), \n",
        "          epochs=10, \n",
        "          batch_size=200)"
      ],
      "execution_count": 253,
      "outputs": [
        {
          "output_type": "stream",
          "text": [
            "Epoch 1/10\n",
            "10000/10000 [==============================] - 8s 808us/step - loss: 0.4473\n",
            "Epoch 2/10\n",
            "10000/10000 [==============================] - 8s 792us/step - loss: 0.2471\n",
            "Epoch 3/10\n",
            "10000/10000 [==============================] - 8s 793us/step - loss: 0.2219\n",
            "Epoch 4/10\n",
            "10000/10000 [==============================] - 8s 793us/step - loss: 0.2147\n",
            "Epoch 5/10\n",
            "10000/10000 [==============================] - 8s 793us/step - loss: 0.2104\n",
            "Epoch 6/10\n",
            "10000/10000 [==============================] - 8s 790us/step - loss: 0.2072\n",
            "Epoch 7/10\n",
            "10000/10000 [==============================] - 8s 793us/step - loss: 0.2043\n",
            "Epoch 8/10\n",
            "10000/10000 [==============================] - 8s 791us/step - loss: 0.2014\n",
            "Epoch 9/10\n",
            "10000/10000 [==============================] - 8s 785us/step - loss: 0.1983\n",
            "Epoch 10/10\n",
            "10000/10000 [==============================] - 8s 795us/step - loss: 0.1952\n"
          ],
          "name": "stdout"
        },
        {
          "output_type": "execute_result",
          "data": {
            "text/plain": [
              "<keras.callbacks.callbacks.History at 0x7f4b1f32fda0>"
            ]
          },
          "metadata": {
            "tags": []
          },
          "execution_count": 253
        }
      ]
    },
    {
      "cell_type": "code",
      "metadata": {
        "id": "HjKUTM6odxiM",
        "colab_type": "code",
        "colab": {}
      },
      "source": [
        "decoder_imgs=decoder.predict(encoded_imgs.reshape(-1,4,4,8))"
      ],
      "execution_count": 0,
      "outputs": []
    },
    {
      "cell_type": "code",
      "metadata": {
        "id": "DMinnDqCtExz",
        "colab_type": "code",
        "colab": {
          "base_uri": "https://localhost:8080/",
          "height": 209
        },
        "outputId": "7be18f9a-e7e0-4965-c9d9-4440a0611ef5"
      },
      "source": [
        "plt.figure(figsize=(40, 4))\n",
        "for i in range(10):\n",
        "  ax = plt.subplot(4, 20, i + 1)\n",
        "  plt.imshow(X_test[i].reshape(28, 28))\n",
        "  ax.get_xaxis().set_visible(False)\n",
        "  ax.get_yaxis().set_visible(False)\n",
        "\n",
        "\n",
        "\n",
        "  ax = plt.subplot(4, 20, i + 1+20)\n",
        "  plt.imshow(encoded_imgs[i].reshape(-1,4,4))\n",
        "  ax.get_xaxis().set_visible(False)\n",
        "  ax.get_yaxis().set_visible(False)\n",
        "\n",
        "\n",
        "  ax = plt.subplot(4, 20, 2*20+i + 1 )\n",
        "  plt.imshow(decoder_imgs[i].reshape(28,28))\n",
        "  ax.get_xaxis().set_visible(False)\n",
        "  ax.get_yaxis().set_visible(False)\n",
        "\n",
        "\n",
        "  ax = plt.subplot(4, 20, 3*20 +i+ 1)\n",
        "  plt.imshow(a_ed_img[i].reshape(28, 28))\n",
        "  ax.get_xaxis().set_visible(False)\n",
        "  ax.get_yaxis().set_visible(False)"
      ],
      "execution_count": 255,
      "outputs": [
        {
          "output_type": "display_data",
          "data": {
            "image/png": "[encoded data removed]",
            "text/plain": [
              "<Figure size 2880x288 with 40 Axes>"
            ]
          },
          "metadata": {
            "tags": [],
            "needs_background": "light"
          }
        }
      ]
    },
    {
      "cell_type": "code",
      "metadata": {
        "id": "Ai_IGLUnyRdF",
        "colab_type": "code",
        "colab": {
          "base_uri": "https://localhost:8080/",
          "height": 219
        },
        "outputId": "32ecd542-b5f9-4ee6-c898-5783d809b67d"
      },
      "source": [
        "for i in encoded_imgs[0]:\n",
        "  plt.imshow(i)"
      ],
      "execution_count": 256,
      "outputs": [
        {
          "output_type": "display_data",
          "data": {
            "image/png": "[encoded data removed]",
            "text/plain": [
              "<Figure size 432x288 with 1 Axes>"
            ]
          },
          "metadata": {
            "tags": [],
            "needs_background": "light"
          }
        }
      ]
    },
    {
      "cell_type": "code",
      "metadata": {
        "id": "bICWtehRtFWi",
        "colab_type": "code",
        "colab": {
          "base_uri": "https://localhost:8080/",
          "height": 265
        },
        "outputId": "cd94946e-f1c3-4de6-ecf9-a0d64c634c4c"
      },
      "source": [
        "for i in decoder_imgs[0]:\n",
        "  plt.imshow(i)"
      ],
      "execution_count": 260,
      "outputs": [
        {
          "output_type": "display_data",
          "data": {
            "image/png": "[encoded data removed]",
            "text/plain": [
              "<Figure size 432x288 with 1 Axes>"
            ]
          },
          "metadata": {
            "tags": [],
            "needs_background": "light"
          }
        }
      ]
    },
    {
      "cell_type": "code",
      "metadata": {
        "id": "lB2u1X1ftF1U",
        "colab_type": "code",
        "colab": {}
      },
      "source": [
        "decoder.save_weights(\"decoder.h5\")"
      ],
      "execution_count": 0,
      "outputs": []
    },
    {
      "cell_type": "code",
      "metadata": {
        "id": "YETS1cQJumFH",
        "colab_type": "code",
        "colab": {}
      },
      "source": [
        "autoencoder.save_weights(\"autoencoder.h5\")"
      ],
      "execution_count": 0,
      "outputs": []
    },
    {
      "cell_type": "code",
      "metadata": {
        "id": "haw-7G7STl3w",
        "colab_type": "code",
        "colab": {}
      },
      "source": [
        "encoder.save_weights(\"encoder.h5\")"
      ],
      "execution_count": 0,
      "outputs": []
    },
    {
      "cell_type": "code",
      "metadata": {
        "id": "tiyeScFem_em",
        "colab_type": "code",
        "colab": {
          "base_uri": "https://localhost:8080/",
          "height": 34
        },
        "outputId": "580bd40b-4847-4ecb-ab40-ee5d7efad3b8"
      },
      "source": [
        ""
      ],
      "execution_count": 275,
      "outputs": [
        {
          "output_type": "execute_result",
          "data": {
            "text/plain": [
              "<HDF5 dataset \"decod_image\": shape (10000, 28, 28, 1), type \"<f4\">"
            ]
          },
          "metadata": {
            "tags": []
          },
          "execution_count": 275
        }
      ]
    },
    {
      "cell_type": "code",
      "metadata": {
        "id": "CUKMZ3m3T7Ad",
        "colab_type": "code",
        "colab": {}
      },
      "source": [
        "\n",
        "h5f = h5py.File('decoder_feature.h5', 'w')\n",
        "h5f.create_dataset('decod_image',data=decoder_imgs)\n",
        "h5f.close()"
      ],
      "execution_count": 0,
      "outputs": []
    },
    {
      "cell_type": "code",
      "metadata": {
        "id": "AtDQlhUQwpMB",
        "colab_type": "code",
        "colab": {}
      },
      "source": [
        "h5f = h5py.File('encoder_feature.h5', 'w')\n",
        "h5f.create_dataset('encoder',data=encoded_imgs)\n",
        "h5f.close()"
      ],
      "execution_count": 0,
      "outputs": []
    },
    {
      "cell_type": "code",
      "metadata": {
        "id": "MRmLs63cakCO",
        "colab_type": "code",
        "colab": {}
      },
      "source": [
        ""
      ],
      "execution_count": 0,
      "outputs": []
    },
    {
      "cell_type": "code",
      "metadata": {
        "id": "cT-HQXWXwuam",
        "colab_type": "code",
        "colab": {}
      },
      "source": [
        ""
      ],
      "execution_count": 0,
      "outputs": []
    },
    {
      "cell_type": "code",
      "metadata": {
        "id": "DxgTvicx3KXo",
        "colab_type": "code",
        "colab": {}
      },
      "source": [
        ""
      ],
      "execution_count": 0,
      "outputs": []
    },
    {
      "cell_type": "code",
      "metadata": {
        "id": "6gpBuQBiCwCR",
        "colab_type": "code",
        "colab": {}
      },
      "source": [
        "y.max()"
      ],
      "execution_count": 0,
      "outputs": []
    },
    {
      "cell_type": "code",
      "metadata": {
        "id": "HHxUgTNtHxrz",
        "colab_type": "code",
        "colab": {}
      },
      "source": [
        "y.min()"
      ],
      "execution_count": 0,
      "outputs": []
    },
    {
      "cell_type": "code",
      "metadata": {
        "id": "UE0VmsdwH6mW",
        "colab_type": "code",
        "colab": {}
      },
      "source": [
        "for i in y[2]:\n",
        "  plt.imshow(i)\n",
        "  \n"
      ],
      "execution_count": 0,
      "outputs": []
    },
    {
      "cell_type": "code",
      "metadata": {
        "id": "DXt93E62lftO",
        "colab_type": "code",
        "colab": {}
      },
      "source": [
        "plt.imshow(X_test[2])"
      ],
      "execution_count": 0,
      "outputs": []
    },
    {
      "cell_type": "code",
      "metadata": {
        "id": "w684-VHlh2Kh",
        "colab_type": "code",
        "colab": {}
      },
      "source": [
        "y[2].shape"
      ],
      "execution_count": 0,
      "outputs": []
    },
    {
      "cell_type": "code",
      "metadata": {
        "id": "zeEqkbidk45T",
        "colab_type": "code",
        "colab": {}
      },
      "source": [
        "for i in y[1]:\n",
        "  plt.imshow(i)"
      ],
      "execution_count": 0,
      "outputs": []
    },
    {
      "cell_type": "code",
      "metadata": {
        "id": "zKvzw3CPlriA",
        "colab_type": "code",
        "colab": {}
      },
      "source": [
        "plt.imshow(X_test[1])"
      ],
      "execution_count": 0,
      "outputs": []
    },
    {
      "cell_type": "code",
      "metadata": {
        "id": "8nDvSMkWlG9s",
        "colab_type": "code",
        "colab": {}
      },
      "source": [
        "for i in y[0]:\n",
        "  plt.imshow(i)"
      ],
      "execution_count": 0,
      "outputs": []
    },
    {
      "cell_type": "code",
      "metadata": {
        "id": "iT_U4HSclL-4",
        "colab_type": "code",
        "colab": {}
      },
      "source": [
        "plt.imshow(X_test[0])"
      ],
      "execution_count": 0,
      "outputs": []
    },
    {
      "cell_type": "code",
      "metadata": {
        "id": "_cXpcVs5lzmp",
        "colab_type": "code",
        "colab": {}
      },
      "source": [
        ""
      ],
      "execution_count": 0,
      "outputs": []
    },
    {
      "cell_type": "code",
      "metadata": {
        "id": "vSBqWwERl24E",
        "colab_type": "code",
        "colab": {}
      },
      "source": [
        ""
      ],
      "execution_count": 0,
      "outputs": []
    },
    {
      "cell_type": "code",
      "metadata": {
        "id": "zn6L52etG15P",
        "colab_type": "code",
        "colab": {}
      },
      "source": [
        ""
      ],
      "execution_count": 0,
      "outputs": []
    }
  ]
}